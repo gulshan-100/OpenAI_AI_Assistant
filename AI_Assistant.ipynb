{
  "nbformat": 4,
  "nbformat_minor": 0,
  "metadata": {
    "colab": {
      "provenance": []
    },
    "kernelspec": {
      "name": "python3",
      "display_name": "Python 3"
    },
    "language_info": {
      "name": "python"
    }
  },
  "cells": [
    {
      "cell_type": "code",
      "execution_count": 45,
      "metadata": {
        "colab": {
          "base_uri": "https://localhost:8080/"
        },
        "id": "FPo9BByclI36",
        "outputId": "b87e46bc-4880-42bc-e670-12be07a7a1e3"
      },
      "outputs": [
        {
          "output_type": "stream",
          "name": "stdout",
          "text": [
            "Requirement already satisfied: openai in /usr/local/lib/python3.11/dist-packages (1.61.1)\n",
            "Requirement already satisfied: anyio<5,>=3.5.0 in /usr/local/lib/python3.11/dist-packages (from openai) (3.7.1)\n",
            "Requirement already satisfied: distro<2,>=1.7.0 in /usr/local/lib/python3.11/dist-packages (from openai) (1.9.0)\n",
            "Requirement already satisfied: httpx<1,>=0.23.0 in /usr/local/lib/python3.11/dist-packages (from openai) (0.28.1)\n",
            "Requirement already satisfied: jiter<1,>=0.4.0 in /usr/local/lib/python3.11/dist-packages (from openai) (0.8.2)\n",
            "Requirement already satisfied: pydantic<3,>=1.9.0 in /usr/local/lib/python3.11/dist-packages (from openai) (2.10.6)\n",
            "Requirement already satisfied: sniffio in /usr/local/lib/python3.11/dist-packages (from openai) (1.3.1)\n",
            "Requirement already satisfied: tqdm>4 in /usr/local/lib/python3.11/dist-packages (from openai) (4.67.1)\n",
            "Requirement already satisfied: typing-extensions<5,>=4.11 in /usr/local/lib/python3.11/dist-packages (from openai) (4.12.2)\n",
            "Requirement already satisfied: idna>=2.8 in /usr/local/lib/python3.11/dist-packages (from anyio<5,>=3.5.0->openai) (3.10)\n",
            "Requirement already satisfied: certifi in /usr/local/lib/python3.11/dist-packages (from httpx<1,>=0.23.0->openai) (2025.1.31)\n",
            "Requirement already satisfied: httpcore==1.* in /usr/local/lib/python3.11/dist-packages (from httpx<1,>=0.23.0->openai) (1.0.7)\n",
            "Requirement already satisfied: h11<0.15,>=0.13 in /usr/local/lib/python3.11/dist-packages (from httpcore==1.*->httpx<1,>=0.23.0->openai) (0.14.0)\n",
            "Requirement already satisfied: annotated-types>=0.6.0 in /usr/local/lib/python3.11/dist-packages (from pydantic<3,>=1.9.0->openai) (0.7.0)\n",
            "Requirement already satisfied: pydantic-core==2.27.2 in /usr/local/lib/python3.11/dist-packages (from pydantic<3,>=1.9.0->openai) (2.27.2)\n"
          ]
        }
      ],
      "source": [
        "!pip install openai"
      ]
    },
    {
      "cell_type": "code",
      "source": [
        "from openai import OpenAI\n",
        "client = OpenAI(api_key = api)"
      ],
      "metadata": {
        "id": "_filmMALlLl2"
      },
      "execution_count": 16,
      "outputs": []
    },
    {
      "cell_type": "code",
      "source": [
        "# Upload the file\n",
        "uploaded_file = client.files.create(\n",
        "    file=open(\"/content/story.txt\", \"rb\"),\n",
        "    purpose=\"assistants\"\n",
        ")\n",
        "\n",
        "# Create a vector store and add the file\n",
        "vector_store = client.beta.vector_stores.create(\n",
        "    name=\"Story Vector Store\",\n",
        "    file_ids=[uploaded_file.id]\n",
        ")\n",
        "\n",
        "# Create the assistant with file_search tool\n",
        "assistant = client.beta.assistants.create(\n",
        "    name=\"Story Helper\",\n",
        "    description=\"You are a motivator who answers questions based on the story.\",\n",
        "    model=\"gpt-4o\",\n",
        "    tools=[{\"type\": \"file_search\"}],\n",
        "    tool_resources={\n",
        "        \"file_search\": {\n",
        "            \"vector_store_ids\": [vector_store.id]\n",
        "        }\n",
        "    }\n",
        ")"
      ],
      "metadata": {
        "id": "tzJsRgntlaJS"
      },
      "execution_count": 20,
      "outputs": []
    },
    {
      "cell_type": "code",
      "source": [
        "thread = client.beta.threads.create()\n",
        "thread\n"
      ],
      "metadata": {
        "colab": {
          "base_uri": "https://localhost:8080/"
        },
        "id": "DhDN7mY1naEy",
        "outputId": "1cd2db18-bd5b-436c-d19e-26b841a0063b"
      },
      "execution_count": 21,
      "outputs": [
        {
          "output_type": "execute_result",
          "data": {
            "text/plain": [
              "Thread(id='thread_t7liqCxLZTM5UZwNzRfLW9OS', created_at=1739090648, metadata={}, object='thread', tool_resources=ToolResources(code_interpreter=None, file_search=None))"
            ]
          },
          "metadata": {},
          "execution_count": 21
        }
      ]
    },
    {
      "cell_type": "code",
      "source": [
        "message = client.beta.threads.messages.create(\n",
        "    thread_id=thread.id,\n",
        "    role=\"user\",\n",
        "    content=\"What is the educational qualification of the engineer and what is his name?\"\n",
        ")\n"
      ],
      "metadata": {
        "id": "e0zeCwI34V3m"
      },
      "execution_count": 31,
      "outputs": []
    },
    {
      "cell_type": "code",
      "source": [
        "message"
      ],
      "metadata": {
        "colab": {
          "base_uri": "https://localhost:8080/"
        },
        "id": "zw5jkmgo4fL2",
        "outputId": "d144b942-64b8-4f9b-8b43-3c7997817bd8"
      },
      "execution_count": 32,
      "outputs": [
        {
          "output_type": "execute_result",
          "data": {
            "text/plain": [
              "Message(id='msg_ZOzyD8HMiARaQTLLouobecBM', assistant_id=None, attachments=[], completed_at=None, content=[TextContentBlock(text=Text(annotations=[], value='What is the educational qualification of the engineer and what is his name?'), type='text')], created_at=1739091439, incomplete_at=None, incomplete_details=None, metadata={}, object='thread.message', role='user', run_id=None, status=None, thread_id='thread_t7liqCxLZTM5UZwNzRfLW9OS')"
            ]
          },
          "metadata": {},
          "execution_count": 32
        }
      ]
    },
    {
      "cell_type": "code",
      "source": [
        "assistant"
      ],
      "metadata": {
        "colab": {
          "base_uri": "https://localhost:8080/"
        },
        "id": "Y0Jkw9Zt4gS9",
        "outputId": "56b1e498-16ac-4a34-d029-7a1c81b7dc86"
      },
      "execution_count": 33,
      "outputs": [
        {
          "output_type": "execute_result",
          "data": {
            "text/plain": [
              "Assistant(id='asst_AqxXPCqgIAcUspW5G7ljyFHJ', created_at=1739090621, description='You are a motivator who answers questions based on the story.', instructions=None, metadata={}, model='gpt-4o', name='Story Helper', object='assistant', tools=[FileSearchTool(type='file_search', file_search=FileSearch(max_num_results=None, ranking_options=FileSearchRankingOptions(score_threshold=0.0, ranker='default_2024_08_21')))], response_format='auto', temperature=1.0, tool_resources=ToolResources(code_interpreter=None, file_search=ToolResourcesFileSearch(vector_store_ids=['vs_67a86abd0bc48191943979cc842d195d'])), top_p=1.0, reasoning_effort=None)"
            ]
          },
          "metadata": {},
          "execution_count": 33
        }
      ]
    },
    {
      "cell_type": "code",
      "source": [
        "run = client.beta.threads.runs.create(\n",
        "  thread_id=thread.id,\n",
        "  assistant_id=assistant.id\n",
        ")\n",
        ""
      ],
      "metadata": {
        "id": "-6okYE-T4i7E"
      },
      "execution_count": 34,
      "outputs": []
    },
    {
      "cell_type": "code",
      "source": [
        "run = client.beta.threads.runs.retrieve(\n",
        "  thread_id=thread.id,\n",
        "  run_id=run.id\n",
        ")"
      ],
      "metadata": {
        "id": "TvEVELrt4mAH"
      },
      "execution_count": 35,
      "outputs": []
    },
    {
      "cell_type": "code",
      "source": [
        "run.status"
      ],
      "metadata": {
        "colab": {
          "base_uri": "https://localhost:8080/",
          "height": 35
        },
        "id": "pZ3oLI9M4rBy",
        "outputId": "ec80644c-afa8-4c69-bf85-7eb43b2d0e27"
      },
      "execution_count": 36,
      "outputs": [
        {
          "output_type": "execute_result",
          "data": {
            "text/plain": [
              "'queued'"
            ],
            "application/vnd.google.colaboratory.intrinsic+json": {
              "type": "string"
            }
          },
          "metadata": {},
          "execution_count": 36
        }
      ]
    },
    {
      "cell_type": "code",
      "source": [
        "message"
      ],
      "metadata": {
        "colab": {
          "base_uri": "https://localhost:8080/"
        },
        "id": "gobjBXhP4snC",
        "outputId": "2b871268-5902-4523-b023-57d756fedce0"
      },
      "execution_count": 37,
      "outputs": [
        {
          "output_type": "execute_result",
          "data": {
            "text/plain": [
              "Message(id='msg_ZOzyD8HMiARaQTLLouobecBM', assistant_id=None, attachments=[], completed_at=None, content=[TextContentBlock(text=Text(annotations=[], value='What is the educational qualification of the engineer and what is his name?'), type='text')], created_at=1739091439, incomplete_at=None, incomplete_details=None, metadata={}, object='thread.message', role='user', run_id=None, status=None, thread_id='thread_t7liqCxLZTM5UZwNzRfLW9OS')"
            ]
          },
          "metadata": {},
          "execution_count": 37
        }
      ]
    },
    {
      "cell_type": "code",
      "source": [
        "messages = client.beta.threads.messages.list(thread_id=thread.id)\n",
        "messages\n"
      ],
      "metadata": {
        "colab": {
          "base_uri": "https://localhost:8080/"
        },
        "id": "PJ0GRmTX4t2v",
        "outputId": "410405fc-d2f5-4bb9-d1aa-5b69a910311e"
      },
      "execution_count": 38,
      "outputs": [
        {
          "output_type": "execute_result",
          "data": {
            "text/plain": [
              "SyncCursorPage[Message](data=[Message(id='msg_ZOzyD8HMiARaQTLLouobecBM', assistant_id=None, attachments=[], completed_at=None, content=[TextContentBlock(text=Text(annotations=[], value='What is the educational qualification of the engineer and what is his name?'), type='text')], created_at=1739091439, incomplete_at=None, incomplete_details=None, metadata={}, object='thread.message', role='user', run_id=None, status=None, thread_id='thread_t7liqCxLZTM5UZwNzRfLW9OS'), Message(id='msg_tklAFkCWhOSUCN06I6gScD7M', assistant_id='asst_AqxXPCqgIAcUspW5G7ljyFHJ', attachments=[], completed_at=None, content=[TextContentBlock(text=Text(annotations=[FileCitationAnnotation(end_index=258, file_citation=FileCitation(file_id='file-VtDEd6UpWjqpymRKexn2dj'), start_index=243, text='【4:0†story.txt】', type='file_citation')], value='The hero of the story is Rahul, a young and ambitious engineer who works tirelessly to design an energy-efficient engine. His perseverance, teamwork, and innovation lead to a successful outcome, and his story serves as an inspiration to others【4:0†story.txt】.'), type='text')], created_at=1739090719, incomplete_at=None, incomplete_details=None, metadata={}, object='thread.message', role='assistant', run_id='run_06R3aD4UjTKlnNfJYY1M17aP', status=None, thread_id='thread_t7liqCxLZTM5UZwNzRfLW9OS'), Message(id='msg_k0aw4F4BtFrBgJkdAFinMSpJ', assistant_id=None, attachments=[], completed_at=None, content=[TextContentBlock(text=Text(annotations=[], value='Who is the hero of the story?'), type='text')], created_at=1739090687, incomplete_at=None, incomplete_details=None, metadata={}, object='thread.message', role='user', run_id=None, status=None, thread_id='thread_t7liqCxLZTM5UZwNzRfLW9OS')], object='list', first_id='msg_ZOzyD8HMiARaQTLLouobecBM', last_id='msg_k0aw4F4BtFrBgJkdAFinMSpJ', has_more=False)"
            ]
          },
          "metadata": {},
          "execution_count": 38
        }
      ]
    },
    {
      "cell_type": "code",
      "source": [
        "while True:\n",
        "    run = client.beta.threads.runs.retrieve(thread_id=thread.id, run_id=run.id)\n",
        "    if run.status==\"completed\":\n",
        "        messages = client.beta.threads.messages.list(thread_id=thread.id)\n",
        "        latest_message = messages.data[0]\n",
        "        text = latest_message.content[0].text.value\n",
        "        print(text)\n",
        "        break;\n"
      ],
      "metadata": {
        "colab": {
          "base_uri": "https://localhost:8080/"
        },
        "id": "_oVW9TGb4wrB",
        "outputId": "cf1668fa-de91-47f2-9da1-1da5e3859871"
      },
      "execution_count": 39,
      "outputs": [
        {
          "output_type": "stream",
          "name": "stdout",
          "text": [
            "The engineer's name is Rahul, and he earned a degree in mechanical engineering【8:0†story.txt】.\n"
          ]
        }
      ]
    },
    {
      "cell_type": "code",
      "source": [],
      "metadata": {
        "id": "wQcDkizz40l4"
      },
      "execution_count": null,
      "outputs": []
    }
  ]
}